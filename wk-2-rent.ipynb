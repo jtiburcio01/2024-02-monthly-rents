{
 "cells": [
  {
   "cell_type": "code",
   "execution_count": 1,
   "id": "9d80668f",
   "metadata": {},
   "outputs": [
    {
     "data": {
      "text/plain": [
       "25.0"
      ]
     },
     "execution_count": 1,
     "metadata": {},
     "output_type": "execute_result"
    }
   ],
   "source": [
    "700/(900+1_200+700)*100"
   ]
  },
  {
   "cell_type": "code",
   "execution_count": 15,
   "id": "4e38ceb1",
   "metadata": {},
   "outputs": [],
   "source": [
    "alfred_monthly_23=900\n",
    "fatima_monthly_23=1_200\n",
    "trina_monthly_23=700\n"
   ]
  },
  {
   "cell_type": "code",
   "execution_count": 3,
   "id": "055bd5a1",
   "metadata": {},
   "outputs": [],
   "source": [
    "alfred_m, fatima_m, trina_m = 900, 1_200, 700"
   ]
  },
  {
   "cell_type": "code",
   "execution_count": 11,
   "id": "0b9cb555",
   "metadata": {},
   "outputs": [
    {
     "data": {
      "text/plain": [
       "700"
      ]
     },
     "execution_count": 11,
     "metadata": {},
     "output_type": "execute_result"
    }
   ],
   "source": [
    "#calling variables is just putting names in and hitting enter\n",
    "alfred_m\n",
    "fatima_monthly_23\n",
    "trina_m"
   ]
  },
  {
   "cell_type": "code",
   "execution_count": 16,
   "id": "785c6df2",
   "metadata": {},
   "outputs": [
    {
     "data": {
      "text/plain": [
       "25.0"
      ]
     },
     "execution_count": 16,
     "metadata": {},
     "output_type": "execute_result"
    }
   ],
   "source": [
    "trina_monthly_23 / (alfred_monthly_23 + fatima_monthly_23 + trina_monthly_23)*100"
   ]
  },
  {
   "cell_type": "code",
   "execution_count": 19,
   "id": "71e071c0",
   "metadata": {},
   "outputs": [],
   "source": [
    "#easier to read?\n",
    "trina_share_23=\\\n",
    "trina_monthly_23/(alfred_monthly_23 +\\\n",
    "                  fatima_monthly_23 +\\\n",
    "                  trina_monthly_23)*100"
   ]
  },
  {
   "cell_type": "code",
   "execution_count": 20,
   "id": "d00e87df",
   "metadata": {},
   "outputs": [
    {
     "data": {
      "text/plain": [
       "25.0"
      ]
     },
     "execution_count": 20,
     "metadata": {},
     "output_type": "execute_result"
    }
   ],
   "source": [
    "trina_share_23, alfred_monthly_23, fatima_monthly_23"
   ]
  },
  {
   "cell_type": "code",
   "execution_count": null,
   "id": "af19adc5",
   "metadata": {},
   "outputs": [],
   "source": []
  }
 ],
 "metadata": {
  "kernelspec": {
   "display_name": "Python 3 (ipykernel)",
   "language": "python",
   "name": "python3"
  },
  "language_info": {
   "codemirror_mode": {
    "name": "ipython",
    "version": 3
   },
   "file_extension": ".py",
   "mimetype": "text/x-python",
   "name": "python",
   "nbconvert_exporter": "python",
   "pygments_lexer": "ipython3",
   "version": "3.11.5"
  }
 },
 "nbformat": 4,
 "nbformat_minor": 5
}
